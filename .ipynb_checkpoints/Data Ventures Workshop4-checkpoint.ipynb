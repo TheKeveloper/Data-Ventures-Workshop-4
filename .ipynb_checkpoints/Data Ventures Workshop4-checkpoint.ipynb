{
 "cells": [
  {
   "cell_type": "code",
   "execution_count": 6,
   "metadata": {
    "collapsed": true
   },
   "outputs": [],
   "source": [
    "import json\n",
    "import pandas as pd\n",
    "from sklearn.cluster import KMeans\n",
    "import matplotlib.pyplot as plt\n",
    "import numpy as np"
   ]
  },
  {
   "cell_type": "markdown",
   "metadata": {},
   "source": [
    "# Read in the data file and convert it into a pandas dataframe"
   ]
  },
  {
   "cell_type": "code",
   "execution_count": 7,
   "metadata": {
    "collapsed": true
   },
   "outputs": [],
   "source": [
    "def make_df(filepath, ncols = 10, csvname = None):\n",
    "    \"\"\"Reads in a the file and converts it into a pandas dataframe where we have ncols equally spaced bins for\n",
    "    the ask and bid data\"\"\"\n",
    "    df = pd.DataFrame()\n",
    "    with open(filepath) as data_file:        \n",
    "        count = 0\n",
    "        cols = []\n",
    "        for i in range(ncols):\n",
    "            cols.append(\"bid\" + str(i + 1))\n",
    "        for i in range(ncols):\n",
    "            cols.append(\"ask\" + str(i + 1))\n",
    "        for line in data_file:\n",
    "            #The time is every even line, whereas the actual data is every odd line\n",
    "            if count%2 == 1:\n",
    "                try:\n",
    "                    data = json.loads(line)\n",
    "                except(ValueError, e):\n",
    "                    return -1\n",
    "\n",
    "                #Read in the data if there aren't any errors\n",
    "                if len(data['error']) == 0:\n",
    "                    #Make an array of length ncols with each \"bin\" having an equal number of bids\n",
    "                    bids = data['result']['XXBTZUSD']['bids']\n",
    "                    bid_sums = []\n",
    "                    bid_sum = 0\n",
    "                    for i in range(len(bids)): \n",
    "                        bid_sum += float (bids[i][1])\n",
    "                        if ((i+1) % int(len(bids)/ncols)) == 0 and i != 0:\n",
    "                            bid_sums.append(bid_sum)\n",
    "\n",
    "                    #Make an array of length ncols with each \"bin\" having an equal number of bids\n",
    "                    asks = data['result']['XXBTZUSD']['asks']\n",
    "                    ask_sums = []\n",
    "                    ask_sum = 0\n",
    "                    for i in range(len(asks)): \n",
    "                        ask_sum += float (asks[i][1])\n",
    "                        if ((i+1) % int(len(asks)/ncols)) == 0 and i != 0:\n",
    "                            ask_sums.append(ask_sum)\n",
    "\n",
    "                    #Normalize the data to values 0-1\n",
    "                    bid_sums = [i/bid_sums[-1] for i in bid_sums]\n",
    "                    ask_sums = [i/ask_sums[-1] for i in ask_sums]\n",
    "\n",
    "                    #Append this time to the dataframe\n",
    "                    if count == 1:\n",
    "                        df = pd.DataFrame([bid_sums + ask_sums], columns= cols)\n",
    "                    else:\n",
    "                        df2 = pd.DataFrame([bid_sums + ask_sums], columns= cols)\n",
    "                        df = df.append(df2)\n",
    "            count += 1\n",
    "        if(csvname != None):\n",
    "            df.to_csv(csvname, index = False);\n",
    "    return df\n"
   ]
  },
  {
   "cell_type": "markdown",
   "metadata": {},
   "source": [
    "# Plot two features of the data against each other"
   ]
  },
  {
   "cell_type": "code",
   "execution_count": 8,
   "metadata": {
    "collapsed": true
   },
   "outputs": [],
   "source": [
    "def plot_data(feature1, feature2, df, model):\n",
    "    \"\"\"Plots the data and the clustered data side by side\"\"\"\n",
    "    assert feature1 in df.columns, \"The first feature you entered does not exist in the dataframe\"\n",
    "    assert feature2 in df.columns, \"The second feature you entered does not exist in the dataframe\"\n",
    "    \n",
    "    fig = plt.figure(figsize=(14,7))\n",
    "\n",
    "    # Plot Original\n",
    "    ax = fig.add_subplot(1, 2, 1)\n",
    "    ax.scatter(df[feature1], df[feature2], s=40)\n",
    "    ax.set_title('Actual')\n",
    "    ax.set_xlabel(feature1)\n",
    "    ax.set_ylabel(feature2)\n",
    "\n",
    "    labels = model.labels_\n",
    "\n",
    "    # Plot Models\n",
    "    ax2 = fig.add_subplot(1, 2, 2)\n",
    "    ax2.scatter(df[feature1], df[feature2], c=labels.astype(np.float), edgecolor='k', s=40)\n",
    "    ax2.set_title('K Mean')\n",
    "    ax2.set_xlabel(feature1)\n",
    "    ax2.set_ylabel(feature2)\n",
    "    \n",
    "    plt.show(fig)"
   ]
  },
  {
   "cell_type": "code",
   "execution_count": 91,
   "metadata": {
    "collapsed": true
   },
   "outputs": [],
   "source": [
    "def plot_clusters(model):\n",
    "    #Gets the centers of the different clusters\n",
    "    clusters = model.cluster_centers_;\n",
    "    #Create subplot for each cluster\n",
    "    fig, axarr = plt.subplots(len(clusters));\n",
    "    count = 0;\n",
    "    for cluster in model.cluster_centers_:\n",
    "        #Get and reverse first half of the cluster (bids)\n",
    "        first_half = cluster[:int(len(cluster) / 2)]\n",
    "        first_half = first_half[::-1]\n",
    "        #Combine reversed first half with second half\n",
    "        y_feature = list(first_half) + list(cluster[int(len(cluster) / 2):])\n",
    "        #Plot the cluster center curve\n",
    "        axarr[count].plot(y_feature)\n",
    "        axarr[count].set_title(\"Cluster \" + str(count))\n",
    "        count += 1;\n",
    "        \n",
    "    plt.show(fig)"
   ]
  },
  {
   "cell_type": "markdown",
   "metadata": {},
   "source": [
    "# The main section of the code to run"
   ]
  },
  {
   "cell_type": "code",
   "execution_count": 31,
   "metadata": {
    "collapsed": true
   },
   "outputs": [],
   "source": [
    "def run_file(filepath, feature1, feature2, clusters, ncols = 10):\n",
    "    assert type(clusters) == int, \"The number of clusters must be a positive integer\"\n",
    "    df = make_df(filepath, ncols = ncols)\n",
    "    assert type(df) == pd.core.frame.DataFrame, \"Please enter a valid file\"\n",
    "    model = KMeans(n_clusters=clusters)\n",
    "    model.fit(df)\n",
    "    plot_clusters(model);\n",
    "    #plot_data(feature1, feature2, df, model) "
   ]
  },
  {
   "cell_type": "code",
   "execution_count": 93,
   "metadata": {},
   "outputs": [
    {
     "name": "stdout",
     "output_type": "stream",
     "text": [
      "4\n"
     ]
    },
    {
     "data": {
      "image/png": "[encoded data removed]",
      "text/plain": [
       "<matplotlib.figure.Figure at 0x1149a75f8>"
      ]
     },
     "metadata": {},
     "output_type": "display_data"
    }
   ],
   "source": [
    "run_file(\"/Users/Kevin/Documents/Data Ventures/Data-Ventures-Workshop-4/orderbook_kraken_2017-10-10\", 'bid5', 'ask5', 3, ncols = 15)"
   ]
  },
  {
   "cell_type": "code",
   "execution_count": null,
   "metadata": {
    "collapsed": true
   },
   "outputs": [],
   "source": []
  }
 ],
 "metadata": {
  "kernelspec": {
   "display_name": "Python 3",
   "language": "python",
   "name": "python3"
  },
  "language_info": {
   "codemirror_mode": {
    "name": "ipython",
    "version": 3
   },
   "file_extension": ".py",
   "mimetype": "text/x-python",
   "name": "python",
   "nbconvert_exporter": "python",
   "pygments_lexer": "ipython3",
   "version": "3.6.1"
  }
 },
 "nbformat": 4,
 "nbformat_minor": 2
}
